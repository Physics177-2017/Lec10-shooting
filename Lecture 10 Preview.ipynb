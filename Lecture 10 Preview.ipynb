{
 "cells": [
  {
   "cell_type": "markdown",
   "metadata": {},
   "source": [
    "# Lecture 10: Boundary Value Problems\n",
    "Prof. Flip Tanedo\n",
    "May the Fourth, 2017"
   ]
  },
  {
   "cell_type": "code",
   "execution_count": 12,
   "metadata": {
    "collapsed": true
   },
   "outputs": [],
   "source": [
    "import numpy as np\n",
    "\n",
    "g = 9.81   # m/s^2\n",
    "t0 = 0.0   # initial time\n",
    "tf = 10.0  # final time\n",
    "N = 1000   # number of steps\n",
    "target_accuracy = 1e-10\n",
    "\n",
    "\n",
    "dt = (tf-t0)/N\n",
    "tpoints = np.arange(t0, tf, dt)\n",
    "\n",
    "\n",
    "# dx/dt\n",
    "def f(x,v,t):\n",
    "    return v\n",
    "\n",
    "# dv/dt\n",
    "def h(x,v,t):\n",
    "    return -g\n",
    "\n",
    "# Runge-Kutta to solve for height\n",
    "def height(v0):\n",
    "    xpoints=[]\n",
    "    vpoints=[]\n",
    "    x = 0\n",
    "    v = v0\n",
    "    for t in tpoints:\n",
    "        xpoints.append(x)\n",
    "        vpoints.append(v)\n",
    "        \n",
    "        x_k1 = dt*f(xpoints[-1], vpoints[-1],t)\n",
    "        x_k2 = dt*f(xpoints[-1] + 0.5*x_k1, vpoints[-1], t + 0.5*dt)\n",
    "        \n",
    "        v_k1 = dt*h(xpoints[-1], vpoints[-1],t)\n",
    "        v_k2 = dt*h(xpoints[-1], vpoints[-1] + 0.5*v_k1, t + 0.5*dt)\n",
    "        \n",
    "        x += x_k2\n",
    "        v += v_k2\n",
    "        \n",
    "    return xpoints[-1]\n",
    "\n",
    "# Stop and test"
   ]
  },
  {
   "cell_type": "code",
   "execution_count": 13,
   "metadata": {},
   "outputs": [
    {
     "data": {
      "text/plain": [
       "-289.22948100000133"
      ]
     },
     "execution_count": 13,
     "metadata": {},
     "output_type": "execute_result"
    }
   ],
   "source": [
    "height(20)"
   ]
  },
  {
   "cell_type": "code",
   "execution_count": 15,
   "metadata": {},
   "outputs": [
    {
     "name": "stdout",
     "output_type": "stream",
     "text": [
      "48.951900000001814\n"
     ]
    }
   ],
   "source": [
    "# Binary Search\n",
    "v1 = 0.01\n",
    "v2 = 1000.0\n",
    "h1 = height(v1)\n",
    "h2 = height(v2)\n",
    "\n",
    "while abs(h2-h1) > target_accuracy:\n",
    "    vp = (v1+v2)/2\n",
    "    hp = height(vp)\n",
    "    if h1*hp > 0:\n",
    "        v1 = vp\n",
    "        h1 = hp  # saves  an evaluation of height\n",
    "    else:\n",
    "        v2 = vp\n",
    "        h2 = hp\n",
    "        \n",
    "v = (v1+v2)/2\n",
    "print(v)"
   ]
  },
  {
   "cell_type": "code",
   "execution_count": null,
   "metadata": {
    "collapsed": true
   },
   "outputs": [],
   "source": []
  }
 ],
 "metadata": {
  "kernelspec": {
   "display_name": "Python 3",
   "language": "python",
   "name": "python3"
  },
  "language_info": {
   "codemirror_mode": {
    "name": "ipython",
    "version": 3
   },
   "file_extension": ".py",
   "mimetype": "text/x-python",
   "name": "python",
   "nbconvert_exporter": "python",
   "pygments_lexer": "ipython3",
   "version": "3.4.3"
  }
 },
 "nbformat": 4,
 "nbformat_minor": 2
}
